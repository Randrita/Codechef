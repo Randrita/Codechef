{
 "cells": [
  {
   "cell_type": "code",
   "execution_count": null,
   "source": [
    "try:\r\n",
    "    import math\r\n",
    "    T=int(input())\r\n",
    "    while(T>0):\r\n",
    "        k=0\r\n",
    "        n,a=(input().split())\r\n",
    "        n=int(n)\r\n",
    "        a=int(a)\r\n",
    "        k=math.sqrt(n)\r\n",
    "        k=k*a\r\n",
    "        print(k)\r\n",
    "        T-=1\r\n",
    "        \r\n",
    "except:\r\n",
    "    pass"
   ],
   "outputs": [],
   "metadata": {}
  }
 ],
 "metadata": {
  "orig_nbformat": 4,
  "language_info": {
   "name": "python"
  }
 },
 "nbformat": 4,
 "nbformat_minor": 2
}