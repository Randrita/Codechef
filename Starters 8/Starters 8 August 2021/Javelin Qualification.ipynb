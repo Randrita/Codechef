{
 "cells": [
  {
   "cell_type": "code",
   "execution_count": null,
   "id": "3e183681",
   "metadata": {},
   "outputs": [],
   "source": [
    "**Javelin Qualification**\n",
    "Problem Description : https://www.codechef.com/START8C/problems/JAVELIN"
   ]
  },
  {
   "cell_type": "code",
   "execution_count": null,
   "id": "6de4ec4d",
   "metadata": {},
   "outputs": [],
   "source": [
    "#javelin\n",
    "from bisect import *\n",
    "try:\n",
    "    for i in range(int(input())):\n",
    "        n,m,x=map(int,input().split())\n",
    "        a=list(map(int,input().split()))\n",
    "        b=[]\n",
    "        for i in range(len(a)):\n",
    "            b.append((-a[i],i+1))\n",
    "        b.sort()\n",
    "        #print(b)\n",
    "        l=bisect(b,(-m,float(\"inf\")))\n",
    "        la=max(l,x)\n",
    "        ans=[]\n",
    "        for i in range(la):\n",
    "            ans.append(b[i][1])\n",
    "        ans.sort()\n",
    "        print(len(ans),*ans)\n",
    "except:\n",
    "    pass"
   ]
  }
 ],
 "metadata": {
  "kernelspec": {
   "display_name": "Python 3",
   "language": "python",
   "name": "python3"
  },
  "language_info": {
   "codemirror_mode": {
    "name": "ipython",
    "version": 3
   },
   "file_extension": ".py",
   "mimetype": "text/x-python",
   "name": "python",
   "nbconvert_exporter": "python",
   "pygments_lexer": "ipython3",
   "version": "3.8.8"
  }
 },
 "nbformat": 4,
 "nbformat_minor": 5
}
