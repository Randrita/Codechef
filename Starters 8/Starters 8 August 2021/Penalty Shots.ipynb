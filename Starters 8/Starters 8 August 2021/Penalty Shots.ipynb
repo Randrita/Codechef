{
 "cells": [
  {
   "cell_type": "markdown",
   "id": "16a74466",
   "metadata": {},
   "source": [
    "**Penalty Shots**\n",
    "problem link : https://www.codechef.com/START8C/problems/PENALTY"
   ]
  },
  {
   "cell_type": "code",
   "execution_count": 25,
   "id": "fd1a9830",
   "metadata": {},
   "outputs": [
    {
     "name": "stdout",
     "output_type": "stream",
     "text": [
      "4\n",
      "1 1 1 1 1 1 1 1 1 0\n",
      "1\n",
      "1 0 1 0 0 0 0 0 0 0 \n",
      "1\n",
      "0 0 0 0 0 0 0 0 0 1\n",
      "2\n",
      "0 0 0 0 0 0 0 0 0 0\n",
      "0\n"
     ]
    }
   ],
   "source": [
    "#solution in python\n",
    "try:\n",
    "    T=int(input())\n",
    "    while(T>0):\n",
    "        x=list(map(int,input().split()))\n",
    "        sumodd=0\n",
    "        sumeven=0\n",
    "        for i in range(0,len(x)):\n",
    "            if i%2 !=0:\n",
    "                j=x[i]\n",
    "                #print(j)\n",
    "                sumeven +=j;\n",
    "                #print(sumeven)\n",
    "            else:\n",
    "                k=x[i]\n",
    "                #print(k)\n",
    "                sumodd+=k;\n",
    "                #print(sumodd)\n",
    "            \n",
    "        if sumodd==sumeven:\n",
    "            print('0')\n",
    "        elif sumodd>sumeven:\n",
    "            print('1')\n",
    "        else:\n",
    "            print('2')\n",
    "            \n",
    "        T-=1\n",
    "except:\n",
    "    pass\n",
    "        "
   ]
  },
  {
   "cell_type": "code",
   "execution_count": null,
   "id": "7e13c400",
   "metadata": {},
   "outputs": [],
   "source": []
  }
 ],
 "metadata": {
  "kernelspec": {
   "display_name": "Python 3",
   "language": "python",
   "name": "python3"
  },
  "language_info": {
   "codemirror_mode": {
    "name": "ipython",
    "version": 3
   },
   "file_extension": ".py",
   "mimetype": "text/x-python",
   "name": "python",
   "nbconvert_exporter": "python",
   "pygments_lexer": "ipython3",
   "version": "3.8.8"
  }
 },
 "nbformat": 4,
 "nbformat_minor": 5
}
